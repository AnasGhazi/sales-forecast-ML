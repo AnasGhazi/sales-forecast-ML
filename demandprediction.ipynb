{
 "cells": [
  {
   "cell_type": "markdown",
   "metadata": {},
   "source": [
    "**IMPORTS**"
   ]
  },
  {
   "cell_type": "code",
   "execution_count": 6,
   "metadata": {},
   "outputs": [
    {
     "data": {
      "text/html": [
       "<div>\n",
       "<style scoped>\n",
       "    .dataframe tbody tr th:only-of-type {\n",
       "        vertical-align: middle;\n",
       "    }\n",
       "\n",
       "    .dataframe tbody tr th {\n",
       "        vertical-align: top;\n",
       "    }\n",
       "\n",
       "    .dataframe thead th {\n",
       "        text-align: right;\n",
       "    }\n",
       "</style>\n",
       "<table border=\"1\" class=\"dataframe\">\n",
       "  <thead>\n",
       "    <tr style=\"text-align: right;\">\n",
       "      <th></th>\n",
       "      <th>date</th>\n",
       "      <th>store</th>\n",
       "      <th>item</th>\n",
       "      <th>sales</th>\n",
       "    </tr>\n",
       "  </thead>\n",
       "  <tbody>\n",
       "    <tr>\n",
       "      <th>0</th>\n",
       "      <td>2013-01-01</td>\n",
       "      <td>7</td>\n",
       "      <td>5</td>\n",
       "      <td>5</td>\n",
       "    </tr>\n",
       "    <tr>\n",
       "      <th>1</th>\n",
       "      <td>2013-01-01</td>\n",
       "      <td>4</td>\n",
       "      <td>9</td>\n",
       "      <td>19</td>\n",
       "    </tr>\n",
       "    <tr>\n",
       "      <th>2</th>\n",
       "      <td>2013-01-01</td>\n",
       "      <td>1</td>\n",
       "      <td>33</td>\n",
       "      <td>37</td>\n",
       "    </tr>\n",
       "    <tr>\n",
       "      <th>3</th>\n",
       "      <td>2013-01-01</td>\n",
       "      <td>3</td>\n",
       "      <td>41</td>\n",
       "      <td>14</td>\n",
       "    </tr>\n",
       "    <tr>\n",
       "      <th>4</th>\n",
       "      <td>2013-01-01</td>\n",
       "      <td>5</td>\n",
       "      <td>24</td>\n",
       "      <td>26</td>\n",
       "    </tr>\n",
       "  </tbody>\n",
       "</table>\n",
       "</div>"
      ],
      "text/plain": [
       "        date store item  sales\n",
       "0 2013-01-01     7    5      5\n",
       "1 2013-01-01     4    9     19\n",
       "2 2013-01-01     1   33     37\n",
       "3 2013-01-01     3   41     14\n",
       "4 2013-01-01     5   24     26"
      ]
     },
     "execution_count": 6,
     "metadata": {},
     "output_type": "execute_result"
    }
   ],
   "source": [
    "from os.path import exists\n",
    "import pandas as pd\n",
    "\n",
    "df__path = 'data/data/train.csv'\n",
    "df=pd.read_csv(df__path)\n",
    "df=df.sample(n=19_000,random_state=0)\n",
    "df[\"store\"]=df[\"store\"].astype(str)\n",
    "df[\"item\"]=df[\"item\"].astype(str)\n",
    "\n",
    "df[\"date\"]=pd.to_datetime(df[\"date\"])\n",
    "\n",
    "df.sort_values(\"date\",inplace=True)\n",
    "df.reset_index(drop=True,inplace=True)\n",
    "df.head()"
   ]
  },
  {
   "cell_type": "code",
   "execution_count": 8,
   "metadata": {},
   "outputs": [],
   "source": [
    "#training range\n",
    "train=df[df['date']<='2017-1-1']\n",
    "test=df[df['date']>'2017-1-1']"
   ]
  },
  {
   "cell_type": "markdown",
   "metadata": {},
   "source": []
  },
  {
   "cell_type": "code",
   "execution_count": null,
   "metadata": {},
   "outputs": [],
   "source": [
    "train_features=train.drop(columns=[\"sales\"])\n",
    "train_target=train[\"sales\"]\n",
    "test_features=test.drop(columns=[\"sales\"])\n",
    "test_target=test[\"sales\"]"
   ]
  },
  {
   "cell_type": "code",
   "execution_count": 10,
   "metadata": {},
   "outputs": [
    {
     "data": {
      "text/html": [
       "<progress style='width:60ex' max='100' value='100'></progress>  100% Finished</br>"
      ],
      "text/plain": [
       "[============================================================] 100% Finished"
      ]
     },
     "metadata": {},
     "output_type": "display_data"
    },
    {
     "name": "stdout",
     "output_type": "stream",
     "text": [
      "WARNING #1: Search started with DATE search key only\n",
      "Try to add other keys like the COUNTRY, POSTAL_CODE, PHONE NUMBER, EMAIL/HEM, IP to your training dataset\n",
      "for search through all the available data sources.\n",
      "See docs https://github.com/upgini/upgini#-total-239-countries-and-up-to-41-years-of-history\n",
      "\n",
      "\n",
      "Detected task type: ModelTaskType.REGRESSION. Reason: date search key is present, treating as regression\n",
      "You can set task type manually with argument `model_task_type` of FeaturesEnricher constructor if task type detected incorrectly\n",
      "\n",
      "WARNING #2: Your training sample is unstable in number of rows per date. It is recommended to redesign the training sample\n",
      "\n"
     ]
    },
    {
     "data": {
      "text/html": [
       "<table><tr><th style='font-weight:bold'>Column name</th><th style='font-weight:bold'>Status</th><th style='font-weight:bold'>Errors</th></tr><tr><td>target</td><td style='background-color:#DAF7A6;color:black'>All valid</td><td>-</td></tr><tr><td>date</td><td style='background-color:#DAF7A6;color:black'>All valid</td><td>-</td></tr></table>"
      ],
      "text/plain": [
       "<IPython.core.display.HTML object>"
      ]
     },
     "metadata": {},
     "output_type": "display_data"
    },
    {
     "name": "stdout",
     "output_type": "stream",
     "text": [
      "\n",
      "\n",
      "Running search request, search_id=93acfd39-aaf4-4d48-bc7a-0cf38722d6a9\n",
      "We'll send email notification once it's completed, just use your personal api_key from profile.upgini.com\n",
      "-\n",
      "\u001b[92m\u001b[1m\n",
      "10 relevant feature(s) found with the search keys: ['date']\u001b[0m\n"
     ]
    },
    {
     "data": {
      "text/html": [
       "<style>\n",
       "            .upgini-df thead th {\n",
       "                font-weight:bold;\n",
       "                text-align: center;\n",
       "                padding: 0.5em;\n",
       "                border-bottom: 2px solid black;\n",
       "            }\n",
       "\n",
       "            .upgini-df tbody td {\n",
       "                padding: 0.5em;\n",
       "                color: black;\n",
       "            }\n",
       "\n",
       "            .upgini-df tbody tr:nth-child(odd) {\n",
       "                background-color: #ffffff;\n",
       "            }\n",
       "\n",
       "            .upgini-df tbody tr:nth-child(even) {\n",
       "                background-color: #f2f2f2;\n",
       "            }\n",
       "\n",
       "            .upgini-text {\n",
       "                text-align: left;\n",
       "            }\n",
       "\n",
       "            .upgini-number {\n",
       "                text-align: center;\n",
       "            }\n",
       "        </style>\n",
       "        <h2>Relevant features</h2>\n",
       "        <div style=\"display:flex; flex-direction:column; align-items:flex-end; width: fit-content;\">\n",
       "            \n",
       "            <div style=\"text-align: right\">\n",
       "                <button onclick=navigator.clipboard.writeText(decodeURI('Feature%20name%09SHAP%20value%09Coverage%20%25%09Value%20preview%09Provider%09Source%09Updates%0Aitem%0912.3308%09100.0%0950,%2043,%2035%09%09%09%0Astore%098.0479%09100.0%095,%203,%207%09%09%09%0Af_events_date_week_sin1_847b5db1%093.8859%09100.0%090.7818,%20-0.9749,%20-0.7818%09Upgini%09Calendar%20data%09Daily%0Af_financial_date_crude_oil_7d_to_1y_c3e0ad17%092.819%09100.0%091.0109,%201.0702,%201.0146%09Upgini%09Markets%20data%09Daily%0Af_autofe_lag_1d_f7664f8ba0%092.6546%0999.86231730565558%090.3416,%20-0.263,%20-0.3817%09Training%20dataset,%20Upgini%09AutoFE%3A%20features%20from%20Training%20dataset,%3Ca%20href%3D%27https%3A%2F%2Fupgini.com%2F%23data_sources%27%20target%3D%27_blank%27%20rel%3D%27noopener%20noreferrer%27%3ECalendar%20data%3C%2Fa%3E%09Daily%0Af_events_date_year_cos1_9014a856%092.3941%09100.0%090.3416,%20-0.263,%20-0.3817%09Upgini%09Calendar%20data%09Daily%0Af_events_date_week_cos3_7525fe31%092.0072%09100.0%09-0.901,%200.6235,%20-0.901%09Upgini%09Calendar%20data%09Daily%0Af_autofe_delta_30d_929f2f9bc7%090.8089%0996.8756619360305%09-5.0,%20-69.0,%20-28.0%09Training%20dataset%09AutoFE%3A%20features%20from%20Training%20dataset%09%0Af_economic_date_cbpol_umap_6_aa0352de%090.5778%09100.0%091.0513,%206.9379,%201.0491%09Upgini%09World%20economic%20indicators%09Daily%0Af_events_date_year_cos2_7acbaf1b%090.2701%09100.0%09-0.7667,%20-0.9473,%20-0.819%09Upgini%09Calendar%20data%09Daily%0A'))>📂 Copy</button>\n",
       "                <a href='mailto:<Share with...>?subject=Relevant external data sources from Upgini.com&body=Feature%20name%09SHAP%20value%09Coverage%20%25%09Value%20preview%09Provider%09Source%09Updates%0Aitem%0912.3308%09100.0%0950,%2043,%2035%09%09%09%0Astore%098.0479%09100.0%095,%203,%207%09%09%09%0Af_events_date_week_sin1_847b5db1%093.8859%09100.0%090.7818,%20-0.9749,%20-0.7818%09Upgini%09Calendar%20data%09Daily%0Af_financial_date_crude_oil_7d_to_1y_c3e0ad17%092.819%09100.0%091.0109,%201.0702,%201.0146%09Upgini%09Markets%20data%09Daily%0Af_autofe_lag_1d_f7664f8ba0%092.6546%0999.86231730565558%090.3416,%20-0.263,%20-0.3817%09Training%20dataset,%20Upgini%09AutoFE%3A%20features%20from%20Training%20dataset,%3Ca%20href%3D%27https%3A%2F%2Fupgini.com%2F%23data_sources%27%20target%3D%27_blank%27%20rel%3D%27noopener%20noreferrer%27%3ECalendar%20data%3C%2Fa%3E%09Daily%0Af_events_date_year_cos1_9014a856%092.3941%09100.0%090.3416,%20-0.263,%20-0.3817%09Upgini%09Calendar%20data%09Daily%0Af_events_date_week_cos3_7525fe31%092.0072%09100.0%09-0.901,%200.6235,%20-0.901%09Upgini%09Calendar%20data%09Daily%0Af_autofe_delta_30d_929f2f9bc7%090.8089%0996.8756619360305%09-5.0,%20-69.0,%20-28.0%09Training%20dataset%09AutoFE%3A%20features%20from%20Training%20dataset%09%0Af_economic_date_cbpol_umap_6_aa0352de%090.5778%09100.0%091.0513,%206.9379,%201.0491%09Upgini%09World%20economic%20indicators%09Daily%0Af_events_date_year_cos2_7acbaf1b%090.2701%09100.0%09-0.7667,%20-0.9473,%20-0.819%09Upgini%09Calendar%20data%09Daily%0A'>\n",
       "                    <button>📨 Share</button>\n",
       "                </a>\n",
       "            </div>\n",
       "            <table class='upgini-df'><thead><th>Feature name</th><th>SHAP value</th><th>Coverage %</th><th>Value preview</th><th>Provider</th><th>Source</th><th>Updates</th></thead><tbody><tr><td class='upgini-text'>item</td><td class='upgini-number'>12.3308</td><td class='upgini-number'>100.0000</td><td class='upgini-text'>50, 43, 35</td><td class='upgini-text'>&nbsp;</td><td class='upgini-text'>&nbsp;</td><td class='upgini-text'>&nbsp;</td></tr><tr><td class='upgini-text'>store</td><td class='upgini-number'>8.0479</td><td class='upgini-number'>100.0000</td><td class='upgini-text'>5, 3, 7</td><td class='upgini-text'>&nbsp;</td><td class='upgini-text'>&nbsp;</td><td class='upgini-text'>&nbsp;</td></tr><tr><td class='upgini-text'><a href='https://docs.upgini.com/public/calendar/calendar#f_events_date_week_sin1_847b5db1' target='_blank' rel='noopener noreferrer'>f_events_date_week_sin1_847b5db1</a></td><td class='upgini-number'>3.8859</td><td class='upgini-number'>100.0000</td><td class='upgini-text'>0.7818, -0.9749, -0.7818</td><td class='upgini-text'><a href='https://upgini.com/' target='_blank' rel='noopener noreferrer'>Upgini</a></td><td class='upgini-text'><a href='https://upgini.com/#data_sources' target='_blank' rel='noopener noreferrer'>Calendar data</a></td><td class='upgini-text'>Daily</td></tr><tr><td class='upgini-text'><a href='https://docs.upgini.com/public/markets/finance#f_financial_date_crude_oil_7d_to_1y_c3e0ad17' target='_blank' rel='noopener noreferrer'>f_financial_date_crude_oil_7d_to_1y_c3e0ad17</a></td><td class='upgini-number'>2.8190</td><td class='upgini-number'>100.0000</td><td class='upgini-text'>1.0109, 1.0702, 1.0146</td><td class='upgini-text'><a href='https://upgini.com/' target='_blank' rel='noopener noreferrer'>Upgini</a></td><td class='upgini-text'><a href='https://upgini.com/#data_sources' target='_blank' rel='noopener noreferrer'>Markets data</a></td><td class='upgini-text'>Daily</td></tr><tr><td class='upgini-text'>f_autofe_lag_1d_f7664f8ba0</td><td class='upgini-number'>2.6546</td><td class='upgini-number'>99.8623</td><td class='upgini-text'>0.3416, -0.263, -0.3817</td><td class='upgini-text'>Training dataset,<a href='https://upgini.com/' target='_blank' rel='noopener noreferrer'>Upgini</a></td><td class='upgini-text'>AutoFE: features from Training dataset,<a href='https://upgini.com/#data_sources' target='_blank' rel='noopener noreferrer'>Calendar data</a></td><td class='upgini-text'>Daily</td></tr><tr><td class='upgini-text'><a href='https://docs.upgini.com/public/calendar/calendar#f_events_date_year_cos1_9014a856' target='_blank' rel='noopener noreferrer'>f_events_date_year_cos1_9014a856</a></td><td class='upgini-number'>2.3941</td><td class='upgini-number'>100.0000</td><td class='upgini-text'>0.3416, -0.263, -0.3817</td><td class='upgini-text'><a href='https://upgini.com/' target='_blank' rel='noopener noreferrer'>Upgini</a></td><td class='upgini-text'><a href='https://upgini.com/#data_sources' target='_blank' rel='noopener noreferrer'>Calendar data</a></td><td class='upgini-text'>Daily</td></tr><tr><td class='upgini-text'><a href='https://docs.upgini.com/public/calendar/calendar#f_events_date_week_cos3_7525fe31' target='_blank' rel='noopener noreferrer'>f_events_date_week_cos3_7525fe31</a></td><td class='upgini-number'>2.0072</td><td class='upgini-number'>100.0000</td><td class='upgini-text'>-0.901, 0.6235, -0.901</td><td class='upgini-text'><a href='https://upgini.com/' target='_blank' rel='noopener noreferrer'>Upgini</a></td><td class='upgini-text'><a href='https://upgini.com/#data_sources' target='_blank' rel='noopener noreferrer'>Calendar data</a></td><td class='upgini-text'>Daily</td></tr><tr><td class='upgini-text'>f_autofe_delta_30d_929f2f9bc7</td><td class='upgini-number'>0.8089</td><td class='upgini-number'>96.8757</td><td class='upgini-text'>-5.0, -69.0, -28.0</td><td class='upgini-text'>Training dataset</td><td class='upgini-text'>AutoFE: features from Training dataset</td><td class='upgini-text'>&nbsp;</td></tr><tr><td class='upgini-text'><a href='https://docs.upgini.com/public/economics/cbpol_umap#f_economic_date_cbpol_umap_6_aa0352de' target='_blank' rel='noopener noreferrer'>f_economic_date_cbpol_umap_6_aa0352de</a></td><td class='upgini-number'>0.5778</td><td class='upgini-number'>100.0000</td><td class='upgini-text'>1.0513, 6.9379, 1.0491</td><td class='upgini-text'><a href='https://upgini.com/' target='_blank' rel='noopener noreferrer'>Upgini</a></td><td class='upgini-text'><a href='https://upgini.com/#data_sources' target='_blank' rel='noopener noreferrer'>World economic indicators</a></td><td class='upgini-text'>Daily</td></tr><tr><td class='upgini-text'><a href='https://docs.upgini.com/public/calendar/calendar#f_events_date_year_cos2_7acbaf1b' target='_blank' rel='noopener noreferrer'>f_events_date_year_cos2_7acbaf1b</a></td><td class='upgini-number'>0.2701</td><td class='upgini-number'>100.0000</td><td class='upgini-text'>-0.7667, -0.9473, -0.819</td><td class='upgini-text'><a href='https://upgini.com/' target='_blank' rel='noopener noreferrer'>Upgini</a></td><td class='upgini-text'><a href='https://upgini.com/#data_sources' target='_blank' rel='noopener noreferrer'>Calendar data</a></td><td class='upgini-text'>Daily</td></tr></tbody></table>\n",
       "        </div>\n",
       "        "
      ],
      "text/plain": [
       "<IPython.core.display.HTML object>"
      ]
     },
     "metadata": {},
     "output_type": "display_data"
    },
    {
     "data": {
      "text/html": [
       "<style>\n",
       "            .upgini-df thead th {\n",
       "                font-weight:bold;\n",
       "                text-align: center;\n",
       "                padding: 0.5em;\n",
       "                border-bottom: 2px solid black;\n",
       "            }\n",
       "\n",
       "            .upgini-df tbody td {\n",
       "                padding: 0.5em;\n",
       "                color: black;\n",
       "            }\n",
       "\n",
       "            .upgini-df tbody tr:nth-child(odd) {\n",
       "                background-color: #ffffff;\n",
       "            }\n",
       "\n",
       "            .upgini-df tbody tr:nth-child(even) {\n",
       "                background-color: #f2f2f2;\n",
       "            }\n",
       "\n",
       "            .upgini-text {\n",
       "                text-align: left;\n",
       "            }\n",
       "\n",
       "            .upgini-number {\n",
       "                text-align: center;\n",
       "            }\n",
       "        </style>\n",
       "        <h2>Relevant data sources</h2>\n",
       "        <div style=\"display:flex; flex-direction:column; align-items:flex-end; width: fit-content;\">\n",
       "            \n",
       "            <div style=\"text-align: right\">\n",
       "                <button onclick=navigator.clipboard.writeText(decodeURI('Provider%09Source%09All%20features%20SHAP%09Number%20of%20relevant%20features%0AUpgini%09Calendar%20data%098.5573%094%0AUpgini%09Markets%20data%092.819%091%0ATraining%20dataset,%20Upgini%09AutoFE%3A%20features%20from%20Training%20dataset,%3Ca%20href%3D%27https%3A%2F%2Fupgini.com%2F%23data_sources%27%20target%3D%27_blank%27%20rel%3D%27noopener%20noreferrer%27%3ECalendar%20data%3C%2Fa%3E%092.6546%091%0ATraining%20dataset%09AutoFE%3A%20features%20from%20Training%20dataset%090.8089%091%0AUpgini%09World%20economic%20indicators%090.5778%091%0A'))>📂 Copy</button>\n",
       "                <a href='mailto:<Share with...>?subject=Relevant external data sources from Upgini.com&body=Provider%09Source%09All%20features%20SHAP%09Number%20of%20relevant%20features%0AUpgini%09Calendar%20data%098.5573%094%0AUpgini%09Markets%20data%092.819%091%0ATraining%20dataset,%20Upgini%09AutoFE%3A%20features%20from%20Training%20dataset,%3Ca%20href%3D%27https%3A%2F%2Fupgini.com%2F%23data_sources%27%20target%3D%27_blank%27%20rel%3D%27noopener%20noreferrer%27%3ECalendar%20data%3C%2Fa%3E%092.6546%091%0ATraining%20dataset%09AutoFE%3A%20features%20from%20Training%20dataset%090.8089%091%0AUpgini%09World%20economic%20indicators%090.5778%091%0A'>\n",
       "                    <button>📨 Share</button>\n",
       "                </a>\n",
       "            </div>\n",
       "            <table class='upgini-df'><thead><th>Provider</th><th>Source</th><th>All features SHAP</th><th>Number of relevant features</th></thead><tbody><tr><td class='upgini-text'><a href='https://upgini.com/' target='_blank' rel='noopener noreferrer'>Upgini</a></td><td class='upgini-text'><a href='https://upgini.com/#data_sources' target='_blank' rel='noopener noreferrer'>Calendar data</a></td><td class='upgini-number'>8.5573</td><td class='upgini-number'>4</td></tr><tr><td class='upgini-text'><a href='https://upgini.com/' target='_blank' rel='noopener noreferrer'>Upgini</a></td><td class='upgini-text'><a href='https://upgini.com/#data_sources' target='_blank' rel='noopener noreferrer'>Markets data</a></td><td class='upgini-number'>2.8190</td><td class='upgini-number'>1</td></tr><tr><td class='upgini-text'>Training dataset,<a href='https://upgini.com/' target='_blank' rel='noopener noreferrer'>Upgini</a></td><td class='upgini-text'>AutoFE: features from Training dataset,<a href='https://upgini.com/#data_sources' target='_blank' rel='noopener noreferrer'>Calendar data</a></td><td class='upgini-number'>2.6546</td><td class='upgini-number'>1</td></tr><tr><td class='upgini-text'>Training dataset</td><td class='upgini-text'>AutoFE: features from Training dataset</td><td class='upgini-number'>0.8089</td><td class='upgini-number'>1</td></tr><tr><td class='upgini-text'><a href='https://upgini.com/' target='_blank' rel='noopener noreferrer'>Upgini</a></td><td class='upgini-text'><a href='https://upgini.com/#data_sources' target='_blank' rel='noopener noreferrer'>World economic indicators</a></td><td class='upgini-number'>0.5778</td><td class='upgini-number'>1</td></tr></tbody></table>\n",
       "        </div>\n",
       "        "
      ],
      "text/plain": [
       "<IPython.core.display.HTML object>"
      ]
     },
     "metadata": {},
     "output_type": "display_data"
    },
    {
     "data": {
      "text/html": [
       "<style>\n",
       "            .upgini-df thead th {\n",
       "                font-weight:bold;\n",
       "                text-align: center;\n",
       "                padding: 0.5em;\n",
       "                border-bottom: 2px solid black;\n",
       "            }\n",
       "\n",
       "            .upgini-df tbody td {\n",
       "                padding: 0.5em;\n",
       "                color: black;\n",
       "            }\n",
       "\n",
       "            .upgini-df tbody tr:nth-child(odd) {\n",
       "                background-color: #ffffff;\n",
       "            }\n",
       "\n",
       "            .upgini-df tbody tr:nth-child(even) {\n",
       "                background-color: #f2f2f2;\n",
       "            }\n",
       "\n",
       "            .upgini-text {\n",
       "                text-align: left;\n",
       "            }\n",
       "\n",
       "            .upgini-number {\n",
       "                text-align: center;\n",
       "            }\n",
       "        </style>\n",
       "        <h2>*Description of AutoFE feature names</h2>\n",
       "        <div style=\"display:flex; flex-direction:column; align-items:flex-end; width: fit-content;\">\n",
       "            \n",
       "            <div style=\"text-align: right\">\n",
       "                <button onclick=navigator.clipboard.writeText(decodeURI('Sources%09Feature%20name%09Feature%201%09Function%0ATraining%20dataset,%3Ca%20href%3D%27https%3A%2F%2Fupgini.com%2F%23data_sources%27%20target%3D%27_blank%27%20rel%3D%27noopener%20noreferrer%27%3ECalendar%20data%3C%2Fa%3E%09f_autofe_lag_1d_f7664f8ba0%09f_events_date_year_cos1_9014a856%09lag_1d%0ATraining%20dataset%09f_autofe_delta_30d_929f2f9bc7%09target%09delta_30d%0A'))>📂 Copy</button>\n",
       "                <a href='mailto:<Share with...>?subject=Relevant external data sources from Upgini.com&body=Sources%09Feature%20name%09Feature%201%09Function%0ATraining%20dataset,%3Ca%20href%3D%27https%3A%2F%2Fupgini.com%2F%23data_sources%27%20target%3D%27_blank%27%20rel%3D%27noopener%20noreferrer%27%3ECalendar%20data%3C%2Fa%3E%09f_autofe_lag_1d_f7664f8ba0%09f_events_date_year_cos1_9014a856%09lag_1d%0ATraining%20dataset%09f_autofe_delta_30d_929f2f9bc7%09target%09delta_30d%0A'>\n",
       "                    <button>📨 Share</button>\n",
       "                </a>\n",
       "            </div>\n",
       "            <table class='upgini-df'><thead><th>Sources</th><th>Feature name</th><th>Feature 1</th><th>Function</th></thead><tbody><tr><td class='upgini-text'>Training dataset,<a href='https://upgini.com/#data_sources' target='_blank' rel='noopener noreferrer'>Calendar data</a></td><td class='upgini-text'>f_autofe_lag_1d_f7664f8ba0</td><td class='upgini-text'>f_events_date_year_cos1_9014a856</td><td class='upgini-text'>lag_1d</td></tr><tr><td class='upgini-text'>Training dataset</td><td class='upgini-text'>f_autofe_delta_30d_929f2f9bc7</td><td class='upgini-text'>target</td><td class='upgini-text'>delta_30d</td></tr></tbody></table>\n",
       "        </div>\n",
       "        "
      ],
      "text/plain": [
       "<IPython.core.display.HTML object>"
      ]
     },
     "metadata": {},
     "output_type": "display_data"
    },
    {
     "name": "stdout",
     "output_type": "stream",
     "text": [
      "We detected 48 outliers in your sample.\n",
      "Examples of outliers with maximum value of target:\n",
      "33    205\n",
      "17    196\n",
      "12    187\n",
      "Name: target, dtype: int64\n",
      "Outliers will be excluded during the metrics calculation.\n",
      "Calculating accuracy uplift after enrichment...\n",
      "y distributions from the training sample and eval_set differ according to the Kolmogorov-Smirnov test,\n",
      "which makes metrics between the train and eval_set incomparable.\n",
      "\\\r"
     ]
    },
    {
     "data": {
      "text/html": [
       "<style>\n",
       "            .upgini-df thead th {\n",
       "                font-weight:bold;\n",
       "                text-align: center;\n",
       "                padding: 0.5em;\n",
       "                border-bottom: 2px solid black;\n",
       "            }\n",
       "\n",
       "            .upgini-df tbody td {\n",
       "                padding: 0.5em;\n",
       "                color: black;\n",
       "            }\n",
       "\n",
       "            .upgini-df tbody tr:nth-child(odd) {\n",
       "                background-color: #ffffff;\n",
       "            }\n",
       "\n",
       "            .upgini-df tbody tr:nth-child(even) {\n",
       "                background-color: #f2f2f2;\n",
       "            }\n",
       "\n",
       "            .upgini-text {\n",
       "                text-align: left;\n",
       "            }\n",
       "\n",
       "            .upgini-number {\n",
       "                text-align: center;\n",
       "            }\n",
       "        </style>\n",
       "        <h2>Accuracy after enrichment</h2>\n",
       "        <div style=\"display:flex; flex-direction:column; align-items:flex-end; width: fit-content;\">\n",
       "            \n",
       "            <div style=\"text-align: right\">\n",
       "                <button onclick=navigator.clipboard.writeText(decodeURI('Dataset%20type%09Rows%09Mean%20target%09Baseline%20MAPE%09Enriched%20MAPE%09Uplift,%20abs%09Uplift,%20%25%0ATrain%099417%0953.3341%090.322%20%C2%B1%200.104%090.289%20%C2%B1%200.078%090.033%0910.4%25%0AEval%201%093752%0958.6493%090.278%20%C2%B1%200.007%090.266%20%C2%B1%200.022%090.012%094.4%25%0A'))>📂 Copy</button>\n",
       "                <a href='mailto:<Share with...>?subject=Relevant external data sources from Upgini.com&body=Dataset%20type%09Rows%09Mean%20target%09Baseline%20MAPE%09Enriched%20MAPE%09Uplift,%20abs%09Uplift,%20%25%0ATrain%099417%0953.3341%090.322%20%C2%B1%200.104%090.289%20%C2%B1%200.078%090.033%0910.4%25%0AEval%201%093752%0958.6493%090.278%20%C2%B1%200.007%090.266%20%C2%B1%200.022%090.012%094.4%25%0A'>\n",
       "                    <button>📨 Share</button>\n",
       "                </a>\n",
       "            </div>\n",
       "            <table class='upgini-df'><thead><th>Dataset type</th><th>Rows</th><th>Mean target</th><th>Baseline MAPE</th><th>Enriched MAPE</th><th>Uplift, abs</th><th>Uplift, %</th></thead><tbody><tr><td class='upgini-text'>Train</td><td class='upgini-number'>9417</td><td class='upgini-number'>53.3341</td><td class='upgini-text'>0.322 ± 0.104</td><td class='upgini-text'>0.289 ± 0.078</td><td class='upgini-number'>0.0330</td><td class='upgini-text'>10.4%</td></tr><tr><td class='upgini-text'>Eval 1</td><td class='upgini-number'>3752</td><td class='upgini-number'>58.6493</td><td class='upgini-text'>0.278 ± 0.007</td><td class='upgini-text'>0.266 ± 0.022</td><td class='upgini-number'>0.0120</td><td class='upgini-text'>4.4%</td></tr></tbody></table>\n",
       "        </div>\n",
       "        "
      ],
      "text/plain": [
       "<IPython.core.display.HTML object>"
      ]
     },
     "metadata": {},
     "output_type": "display_data"
    },
    {
     "data": {
      "text/html": [
       "<a download=\"upgini-report-f157d3dc-6be6-49de-987c-e3b624a09ff4.pdf\" href=\"data:application/pdf;base64,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\" target=\"_blank\">\n",
       "        <button>📊 Download PDF report</button></a>"
      ],
      "text/plain": [
       "<IPython.core.display.HTML object>"
      ]
     },
     "metadata": {},
     "output_type": "display_data"
    }
   ],
   "source": [
    "from upgini import FeaturesEnricher, SearchKey\n",
    "from upgini.metadata import CVType\n",
    "\n",
    "enricher=FeaturesEnricher(\n",
    "    search_keys={\"date\":SearchKey.DATE,},\n",
    "    cv=CVType.time_series\n",
    ")\n",
    "enricher.fit(\n",
    "    train_features,train_target,eval_set=[(test_features,test_target)]\n",
    ")"
   ]
  },
  {
   "cell_type": "markdown",
   "metadata": {},
   "source": [
    "**REGRESSION MODEL**"
   ]
  },
  {
   "cell_type": "code",
   "execution_count": 12,
   "metadata": {},
   "outputs": [
    {
     "name": "stdout",
     "output_type": "stream",
     "text": [
      "Calculating accuracy uplift after enrichment...\n",
      "y distributions from the training sample and eval_set differ according to the Kolmogorov-Smirnov test,\n",
      "which makes metrics between the train and eval_set incomparable.\n",
      "-\r"
     ]
    },
    {
     "data": {
      "text/html": [
       "<div>\n",
       "<style scoped>\n",
       "    .dataframe tbody tr th:only-of-type {\n",
       "        vertical-align: middle;\n",
       "    }\n",
       "\n",
       "    .dataframe tbody tr th {\n",
       "        vertical-align: top;\n",
       "    }\n",
       "\n",
       "    .dataframe thead th {\n",
       "        text-align: right;\n",
       "    }\n",
       "</style>\n",
       "<table border=\"1\" class=\"dataframe\">\n",
       "  <thead>\n",
       "    <tr style=\"text-align: right;\">\n",
       "      <th></th>\n",
       "      <th>Dataset type</th>\n",
       "      <th>Rows</th>\n",
       "      <th>Mean target</th>\n",
       "      <th>Baseline mean_absolute_error</th>\n",
       "      <th>Enriched mean_absolute_error</th>\n",
       "      <th>Uplift, abs</th>\n",
       "      <th>Uplift, %</th>\n",
       "    </tr>\n",
       "  </thead>\n",
       "  <tbody>\n",
       "    <tr>\n",
       "      <th>0</th>\n",
       "      <td>Train</td>\n",
       "      <td>9417</td>\n",
       "      <td>53.3341</td>\n",
       "      <td>12.967 ± 1.905</td>\n",
       "      <td>8.681 ± 1.258</td>\n",
       "      <td>4.286</td>\n",
       "      <td>33.1%</td>\n",
       "    </tr>\n",
       "    <tr>\n",
       "      <th>1</th>\n",
       "      <td>Eval 1</td>\n",
       "      <td>3752</td>\n",
       "      <td>58.6493</td>\n",
       "      <td>13.560 ± 0.598</td>\n",
       "      <td>10.247 ± 0.782</td>\n",
       "      <td>3.312</td>\n",
       "      <td>24.4%</td>\n",
       "    </tr>\n",
       "  </tbody>\n",
       "</table>\n",
       "</div>"
      ],
      "text/plain": [
       "  Dataset type  Rows  Mean target Baseline mean_absolute_error  \\\n",
       "0        Train  9417      53.3341               12.967 ± 1.905   \n",
       "1       Eval 1  3752      58.6493               13.560 ± 0.598   \n",
       "\n",
       "  Enriched mean_absolute_error  Uplift, abs Uplift, %  \n",
       "0                8.681 ± 1.258        4.286     33.1%  \n",
       "1               10.247 ± 0.782        3.312     24.4%  "
      ]
     },
     "execution_count": 12,
     "metadata": {},
     "output_type": "execute_result"
    }
   ],
   "source": [
    "from catboost import CatBoostRegressor\n",
    "from catboost.utils import eval_metric\n",
    "\n",
    "model=CatBoostRegressor(\n",
    "    verbose=False,\n",
    "    allow_writing_files=False,\n",
    "    random_state=0\n",
    ")\n",
    "enricher.calculate_metrics(\n",
    "    train_features,train_target,\n",
    "    eval_set=[(test_features,test_target)],\n",
    "    estimator=model,\n",
    "    scoring=\"mean_absolute_error\"\n",
    "\n",
    ")"
   ]
  },
  {
   "cell_type": "code",
   "execution_count": 15,
   "metadata": {},
   "outputs": [
    {
     "data": {
      "text/html": [
       "<progress style='width:60ex' max='100' value='0'></progress>  0% Checking dataset...</br>"
      ],
      "text/plain": [
       "[                                                            ] 0% Checking dataset..."
      ]
     },
     "metadata": {},
     "output_type": "display_data"
    },
    {
     "name": "stdout",
     "output_type": "stream",
     "text": [
      "You are trying to launch enrichment for 15225 rows, which will exceed the rest limit 1000.\n"
     ]
    },
    {
     "data": {
      "application/vnd.jupyter.widget-view+json": {
       "model_id": "9c2f777dca5c4a808869b0f7e793040f",
       "version_major": 2,
       "version_minor": 0
      },
      "text/plain": [
       "Button(button_style='danger', description='Request a quote', style=ButtonStyle())"
      ]
     },
     "metadata": {},
     "output_type": "display_data"
    },
    {
     "data": {
      "text/html": [
       "<progress style='width:60ex' max='100' value='100'></progress>  100% Finished</br>"
      ],
      "text/plain": [
       "[============================================================] 100% Finished"
      ]
     },
     "metadata": {},
     "output_type": "display_data"
    },
    {
     "name": "stdout",
     "output_type": "stream",
     "text": [
      "You are trying to launch enrichment for 3775 rows, which will exceed the rest limit 1000.\n"
     ]
    },
    {
     "data": {
      "application/vnd.jupyter.widget-view+json": {
       "model_id": "a6c644a5b7c2400a9b2c69cc97f80992",
       "version_major": 2,
       "version_minor": 0
      },
      "text/plain": [
       "Button(button_style='danger', description='Request a quote', style=ButtonStyle())"
      ]
     },
     "metadata": {},
     "output_type": "display_data"
    },
    {
     "name": "stdout",
     "output_type": "stream",
     "text": [
      "enriched_train_features is None. Please check the enricher configuration.\n"
     ]
    }
   ],
   "source": [
    "enriched_train_features = enricher.transform(train_features, keep_input=True)\n",
    "enriched_test_features = enricher.transform(test_features, keep_input=True)\n",
    "\n",
    "# Ensure the result is a DataFrame before calling head()\n",
    "if enriched_train_features is not None:\n",
    "\tenriched_train_features.head()\n",
    "else:\n",
    "\tprint(\"enriched_train_features is None. Please check the enricher configuration.\")\n"
   ]
  }
 ],
 "metadata": {
  "kernelspec": {
   "display_name": "form_env",
   "language": "python",
   "name": "python3"
  },
  "language_info": {
   "codemirror_mode": {
    "name": "ipython",
    "version": 3
   },
   "file_extension": ".py",
   "mimetype": "text/x-python",
   "name": "python",
   "nbconvert_exporter": "python",
   "pygments_lexer": "ipython3",
   "version": "3.10.17"
  }
 },
 "nbformat": 4,
 "nbformat_minor": 2
}
